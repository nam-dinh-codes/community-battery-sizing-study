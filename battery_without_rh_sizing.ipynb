{
 "cells": [
  {
   "cell_type": "code",
   "execution_count": null,
   "metadata": {},
   "outputs": [],
   "source": [
    "import numpy as np\n",
    "from optimisation_models.battery_optimisation import OptimisationParameters\n",
    "from optimisation_models.battery_without_rh_model import DataPreparation, BatteryWithoutRhSizing"
   ]
  },
  {
   "cell_type": "markdown",
   "metadata": {},
   "source": [
    "## Run optimisation with pre-dispatch prices"
   ]
  },
  {
   "cell_type": "code",
   "execution_count": null,
   "metadata": {},
   "outputs": [],
   "source": [
    "price_type = 'pre_dispatch'"
   ]
  },
  {
   "cell_type": "code",
   "execution_count": null,
   "metadata": {},
   "outputs": [],
   "source": [
    "prosumer_binding_file = 'data/processed/prosumer_rho/aggregate_data/aggregate_0_lookahead_pd_price.csv'\n",
    "data_preparation = DataPreparation(prosumer_binding_file, price_type=price_type)\n",
    "df_prosumer_agg_binding = data_preparation.read_prosumer_binding_data()"
   ]
  },
  {
   "cell_type": "code",
   "execution_count": null,
   "metadata": {},
   "outputs": [],
   "source": [
    "optimisation_horizon = np.arange(48*7*12)\n",
    "battery_opti_params = OptimisationParameters(df_prosumer_agg_binding)\n",
    "without_rh_sizing_model = BatteryWithoutRhSizing(battery_opti_params, optimisation_horizon)\n",
    "df_pd_battery_sizing = without_rh_sizing_model.sizing_optimisation()"
   ]
  },
  {
   "cell_type": "code",
   "execution_count": null,
   "metadata": {},
   "outputs": [],
   "source": [
    "battery_folder = 'data/processed/battery/without_rh_sizing/'\n",
    "without_rh_sizing_model.save_binding_data(battery_folder, price_type)"
   ]
  },
  {
   "cell_type": "markdown",
   "metadata": {},
   "source": [
    "## Run optimisation with dispatch prices"
   ]
  },
  {
   "cell_type": "code",
   "execution_count": null,
   "metadata": {},
   "outputs": [],
   "source": [
    "price_type = 'dispatch'\n",
    "dispatch_price_file = 'data/prices/RRP_NSW1_half_hourly_2021.csv'"
   ]
  },
  {
   "cell_type": "code",
   "execution_count": null,
   "metadata": {},
   "outputs": [],
   "source": [
    "prosumer_binding_file = 'data/processed/prosumer_rho/aggregate_data/aggregate_0_lookahead_pd_price.csv'\n",
    "data_preparation = DataPreparation(prosumer_binding_file, price_type=price_type, dispatch_price_file=dispatch_price_file)\n",
    "df_prosumer_agg_binding = data_preparation.read_prosumer_binding_data()"
   ]
  },
  {
   "cell_type": "code",
   "execution_count": null,
   "metadata": {},
   "outputs": [],
   "source": [
    "optimisation_horizon = np.arange(48*7*12)\n",
    "battery_opti_params = OptimisationParameters(df_prosumer_agg_binding)\n",
    "without_rh_sizing_model = BatteryWithoutRhSizing(battery_opti_params, optimisation_horizon)\n",
    "df_dispatch_battery_sizing = without_rh_sizing_model.sizing_optimisation()"
   ]
  },
  {
   "cell_type": "code",
   "execution_count": null,
   "metadata": {},
   "outputs": [],
   "source": [
    "battery_folder = 'data/processed/battery/without_rh_sizing/'\n",
    "without_rh_sizing_model.save_binding_data(battery_folder, price_type)"
   ]
  }
 ],
 "metadata": {
  "kernelspec": {
   "display_name": "Gurobi",
   "language": "python",
   "name": "python3"
  },
  "language_info": {
   "codemirror_mode": {
    "name": "ipython",
    "version": 3
   },
   "file_extension": ".py",
   "mimetype": "text/x-python",
   "name": "python",
   "nbconvert_exporter": "python",
   "pygments_lexer": "ipython3",
   "version": "3.8.12"
  },
  "orig_nbformat": 4
 },
 "nbformat": 4,
 "nbformat_minor": 2
}
